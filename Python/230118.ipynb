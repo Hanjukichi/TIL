{
 "cells": [
  {
   "cell_type": "markdown",
   "metadata": {},
   "source": [
    "# <b>함수</b>\n",
    "Decompostion : 분해  \n",
    "- 기능을 분해하고, 재사용 가능하게 만들기\n",
    "\n",
    "Abstraction : 추상화  \n",
    "- 복잡한 내용을 모르더라도 사용할 수 있기함(재사용성,가독성,생산성)"
   ]
  },
  {
   "cell_type": "markdown",
   "metadata": {},
   "source": [
    "## <b>Ⅰ 함수 기초</b>"
   ]
  },
  {
   "cell_type": "markdown",
   "metadata": {},
   "source": [
    "### <b>함수의 종류</b>\n",
    "내장 함수  \n",
    "- 파이썬에 기본적으로 포함된 함수 \n",
    "\n",
    "외장함수  \n",
    "- `import` 문을 통해 사용하며, 외부 라이브러리에서 제공하는 함수  \n",
    "\n",
    "사용자 정의 함수  \n",
    "- 직접 사용자가 만드는 함수"
   ]
  },
  {
   "cell_type": "markdown",
   "metadata": {},
   "source": [
    "### <b>함수의 정의</b>\n",
    "함수란?\n",
    "- 특정한 기능을 하는 코드의 조각\n",
    "- 특정코드를 매번 다시 작성하지 않고, 필요시에만 호출하여 간편히 사용"
   ]
  },
  {
   "cell_type": "markdown",
   "metadata": {},
   "source": [
    "### <b>함수 기본 구조</b>\n",
    "선언과 호출  \n",
    "<br>\n",
    "입력  \n",
    "<br>\n",
    "문서화  \n",
    "<br>\n",
    "범위  \n",
    "<br>\n",
    "결과값\n",
    "<br>\n",
    "```python\n",
    "def <-keyword sum <- name(식별자) (a,b): <- parameter\n",
    "answer = a+b\n",
    "return answer <- output\n",
    "```"
   ]
  },
  {
   "cell_type": "markdown",
   "metadata": {},
   "source": [
    "### <b>선언과 호출</b>\n",
    "함수의 선언은 `def`키워드를 활용함  \n",
    "<br>\n",
    "들여쓰기를 통해 Function body를 작성함  \n",
    "- Docstring은 함수 body 앞에 선택적으로 작성 가능(첫 번째 문장에 문자열 '''''')  \n",
    "\n",
    "함수는 parameter를 넘겨줄 수 있음  \n",
    "<br>\n",
    "함수는 종작 후에 `return`을 통해 결괏값을 전달함  \n",
    "<br>\n",
    "함수는 `함수명()`으로 호출하여 사용\n",
    "- parameter가 있는 경우, `함수명(값1,값2,...)`으로 호출"
   ]
  },
  {
   "cell_type": "markdown",
   "metadata": {},
   "source": [
    "## <b>Ⅱ 함수의 결과값</b>"
   ]
  },
  {
   "cell_type": "markdown",
   "metadata": {},
   "source": [
    "### <b>값에 따른 함수의 종류</b>\n",
    "Void function\n",
    "- 명시적인 return 값이 없는 경우, None을 반한하고 종료  \n",
    "\n",
    "Value returning function\n",
    "- 함수 실행후, `return`문을 통해 값 반환\n",
    "- return을 하게 되면, 값 반환 후 함수가 바로 종료"
   ]
  },
  {
   "cell_type": "markdown",
   "metadata": {},
   "source": [
    "### ※ `print` vs `return`\n",
    "print\n",
    "- 호출될 때마다 값이 출력됨(주로 테스트를 위해 사용)  \n",
    "\n",
    "return\n",
    "- 데이터 처리를 위해서는 return 사용  \n",
    "\n",
    "REPL(Rad_Evl_Print Loop)환경에서는 마지막으로 작성된 코드의 리턴 값을  \n",
    "보여주므로 같은 동작을 하는 것으로 착각할 수 있음 ex) jupyter notebook\n"
   ]
  },
  {
   "cell_type": "markdown",
   "metadata": {},
   "source": [
    "### <b>두 개 이상의 값 반환</b>\n",
    "return은 항상 하나의 값만을 반환\n",
    "- 반환 값으로 튜플,리스트와 같은 컨테이너를 사용"
   ]
  },
  {
   "cell_type": "markdown",
   "metadata": {},
   "source": [
    "## <b>Ⅲ 함수의 입력 </b>"
   ]
  },
  {
   "cell_type": "markdown",
   "metadata": {},
   "source": [
    "### <b>Parameter와 Argument</b>\n",
    "Parameter\n",
    "- 함수를 정의할 때, 함수 내부에서 사용되는 변수  \n",
    "\n",
    "Argument\n",
    "- 함수를 호출할 때 넣어주는 값"
   ]
  },
  {
   "cell_type": "markdown",
   "metadata": {},
   "source": [
    "### <b>Argument</b>\n",
    "Argument란?\n",
    "- 함수 호출 시 함수의 parameter를 통해 전달되는 값  \n",
    "\n",
    "Argument는 소괄호 안에 할당 `func_name(argument)`  \n"
   ]
  },
  {
   "cell_type": "markdown",
   "metadata": {},
   "source": [
    "### <b>Argument의 종류</b>\n",
    "필수 Argument : 반드시 전달되어야 하는 Argument \n",
    "<br>\n",
    "선택 Argument : 값을 전달하지 않아도 되는 경우는 기본값이 전달   \n",
    "<br>\n",
    "Positional Arguments\n",
    "- 기본적으로 함수 호출 시 Argument는 위치에 따라 함수 내에 전달됨  \n",
    "\n",
    "Keyword Arguments\n",
    "- 직접 변수의이름으로 특정 Argument를 전달할 수 있음\n",
    "- Keyword Argument 다음에 Positional Arguments를 활용할 수 없음\n",
    "\n",
    "Default Arguemnts Values\n",
    "- 기본값을 지정하여 함수 호출 시 argument 값을 설정하지 않도록 함\n",
    "- 정의된 것보다 더 적은 개수의 argument들로 호출될 수 있음"
   ]
  },
  {
   "cell_type": "markdown",
   "metadata": {},
   "source": [
    "## <b>Ⅳ Python의 범위</b>"
   ]
  },
  {
   "cell_type": "markdown",
   "metadata": {},
   "source": [
    "### <b>Python의 범위(Scope)</b>\n",
    "scope\n",
    "- global scope: 코드 어디에서든 참조할 수 있는 공간\n",
    "- local scope: 함수가 만든 scope. 함수 내부에서만 참조 가능  \n",
    "\n",
    "variable\n",
    "- global variable: global scope에 정의된 변수\n",
    "- local variable: local scope에 정의된 변수\n",
    "\n",
    "※ name space : 할당한 변수들을 기억하는 공간\n",
    "- Builtin space : 파이썬 자체에 이미 생성되어 있는 name space\n",
    "- global space : .py가 실행될 때 생성되는 name space\n",
    "- enclosing space : 함수 안에서 함수가 있을 때 바깥 함수에 해당하는 name space\n",
    "- local space : 함수를 실행할 때 생성되는 name space\n",
    "- 변수 찾는 순서: L > E > G > B (할당되는 공간이 작은 순부터, 다 없으면 에러)"
   ]
  },
  {
   "cell_type": "code",
   "execution_count": 6,
   "metadata": {},
   "outputs": [
    {
     "name": "stdout",
     "output_type": "stream",
     "text": [
      "로컬\n",
      "{'a': 2, 'b': 3, 'x': '로컬'}\n",
      "글로벌\n"
     ]
    }
   ],
   "source": [
    "x = '글로벌'\n",
    "def func1():\n",
    "    x = '인클로징'\n",
    "    def func2(a,b):\n",
    "        x = '로컬'\n",
    "        print(x)\n",
    "        print(locals())\n",
    "        print(globals()['x'])\n",
    "    func2(2,3)\n",
    "func1()"
   ]
  },
  {
   "cell_type": "code",
   "execution_count": 10,
   "metadata": {},
   "outputs": [
    {
     "name": "stdout",
     "output_type": "stream",
     "text": [
      "[1, 5, 3, 4]\n"
     ]
    }
   ],
   "source": [
    "# 리스트도 함수명 탐색룰 적용\n",
    "my_list =[1,2,3,4]\n",
    "\n",
    "def func1():\n",
    "    my_list[1]=5\n",
    "\n",
    "func1()\n",
    "print(my_list)"
   ]
  },
  {
   "cell_type": "code",
   "execution_count": 13,
   "metadata": {},
   "outputs": [
    {
     "name": "stdout",
     "output_type": "stream",
     "text": [
      "3\n",
      "3\n",
      "1\n"
     ]
    }
   ],
   "source": [
    "x = 1\n",
    "\n",
    "def func1():\n",
    "\n",
    "    x = 2\n",
    "\n",
    "    def func2():\n",
    "        nonlocal x\n",
    "        x = 3\n",
    "        print(x)\n",
    "        \n",
    "    func2()\n",
    "    print(x)\n",
    "\n",
    "func1()\n",
    "print(x)"
   ]
  },
  {
   "cell_type": "markdown",
   "metadata": {},
   "source": [
    "### <b>변수 수명주기(lifecycle)</b>\n",
    "built-in scope\n",
    "- 파이썬이 실행된 이후부터 영원히 유지  \n",
    "\n",
    "global scope\n",
    "- 파이썬 파일이 호출된 이후 혹은 인터프리터가 끝날 때까지 유지  \n",
    "\n",
    "local scope\n",
    "- 함수가 호출될 때 생성되고, 함수가 종료될 때까지 유지  \n"
   ]
  },
  {
   "cell_type": "markdown",
   "metadata": {},
   "source": [
    "### <b>global문</b>\n",
    "현재 코드 블록 전체에 적용되며, 나열된 식별자(이름)이 global variable임을 나타냄  \n",
    "\n",
    "global에 나열된 이름은 같은 코드 블록에서 global 앞에 등장할 수 없음  \n",
    "\n",
    "global에 나열된 이름은 parameter,for 루프 대상, 클래스/함수 정의 등으로 정의되지 않아야함"
   ]
  },
  {
   "cell_type": "code",
   "execution_count": 14,
   "metadata": {},
   "outputs": [
    {
     "name": "stdout",
     "output_type": "stream",
     "text": [
      "글로벌\n",
      "인클로징\n",
      "인클로징\n"
     ]
    }
   ],
   "source": [
    "# global 함수\n",
    "\n",
    "x = '글로벌'\n",
    "print(globals()['x'])\n",
    "\n",
    "def func1():\n",
    "    global x\n",
    "    x = '인클로징'\n",
    "    print(x)\n",
    "\n",
    "func1()\n",
    "print(globals()['x'])"
   ]
  },
  {
   "cell_type": "markdown",
   "metadata": {},
   "source": [
    "### <b>nonlocal</b>\n",
    "global을 제외하고 가장 가까운 (둘러싸고 있는) scope의 변수를 연결하도록 함\n",
    "- nonlocal에 나열된 이름은 같은 코드 블록에서 nonlocal 앞에 등장할 수 없음\n",
    "- nonlocal에 나열된 이름은 parameter,for 루프 대상, 클래스/함수 정의 등으로 정의되지 않아야 함  \n",
    "\n",
    "global과는 달리 이미 존재하는 이름과의 연결만 가능함"
   ]
  }
 ],
 "metadata": {
  "kernelspec": {
   "display_name": "Python 3.9.13 64-bit",
   "language": "python",
   "name": "python3"
  },
  "language_info": {
   "codemirror_mode": {
    "name": "ipython",
    "version": 3
   },
   "file_extension": ".py",
   "mimetype": "text/x-python",
   "name": "python",
   "nbconvert_exporter": "python",
   "pygments_lexer": "ipython3",
   "version": "3.9.13"
  },
  "orig_nbformat": 4,
  "vscode": {
   "interpreter": {
    "hash": "c4b9ebf4ca459396e2ad1150752490c26670c1a037c08cad955a4425787bec2e"
   }
  }
 },
 "nbformat": 4,
 "nbformat_minor": 2
}
