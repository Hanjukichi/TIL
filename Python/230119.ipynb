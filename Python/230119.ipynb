{
 "cells": [
  {
   "cell_type": "markdown",
   "metadata": {},
   "source": [
    "# <b>함수의 활용"
   ]
  },
  {
   "cell_type": "markdown",
   "metadata": {},
   "source": [
    "## <b>Ⅰ. 함수 응용"
   ]
  },
  {
   "cell_type": "markdown",
   "metadata": {},
   "source": [
    "### <b>`map`</b>\n",
    "`map(function,iterable)`\n",
    "- 순회 가능한 데이터구조(iterable)의 모든 요소에  \n",
    "함수(function) 적용하고 그 결과를 map object로 반환"
   ]
  },
  {
   "cell_type": "code",
   "execution_count": 2,
   "metadata": {},
   "outputs": [
    {
     "name": "stdout",
     "output_type": "stream",
     "text": [
      "<map object at 0x000001F254F1A130>\n",
      "[10, 20, 30, 40, 50]\n"
     ]
    }
   ],
   "source": [
    "def func(n):\n",
    "    return n * 10\n",
    "\n",
    "my_list = [1,2,3,4,5]\n",
    "result = map(func,my_list)\n",
    "\n",
    "print(result)\n",
    "print(list(result))"
   ]
  },
  {
   "cell_type": "markdown",
   "metadata": {},
   "source": [
    "### <b>`filter`</b>\n",
    "`filter(function,iterable)`\n",
    "- 순회 가능한 데이터구조(iterable)의 모든 요소에  \n",
    "함수(function) 적용하고 그 결과가 True인 것들을 filter object로 반환"
   ]
  },
  {
   "cell_type": "code",
   "execution_count": 3,
   "metadata": {},
   "outputs": [
    {
     "name": "stdout",
     "output_type": "stream",
     "text": [
      "<filter object at 0x000001F255DA0A60>\n",
      "[1, 3]\n"
     ]
    }
   ],
   "source": [
    "def odd(n):\n",
    "    return n % 2\n",
    "\n",
    "numbers = [1,2,3]\n",
    "result = filter(odd,numbers)\n",
    "\n",
    "print(result)\n",
    "print(list(result))"
   ]
  },
  {
   "cell_type": "markdown",
   "metadata": {},
   "source": [
    "### <b>`zip`</b>\n",
    "`filter(*function,*iterable)`\n",
    "- 복수의 iterable을 모아 튜플을 원소로 하는 zip object를 반환"
   ]
  },
  {
   "cell_type": "code",
   "execution_count": 5,
   "metadata": {},
   "outputs": [
    {
     "name": "stdout",
     "output_type": "stream",
     "text": [
      "<zip object at 0x000001F2552E8F40>\n",
      "[(1, 'a'), (2, 'b'), (3, 'c'), (4, 'd')]\n"
     ]
    }
   ],
   "source": [
    "numbers = [1,2,3,4]\n",
    "strings = ['a','b','c','d']\n",
    "pair = zip(numbers,strings)\n",
    "print(pair)\n",
    "print(list(pair))"
   ]
  },
  {
   "cell_type": "markdown",
   "metadata": {},
   "source": [
    "### <b>`lambda` 함수</b>\n",
    "`lambda [parameter] : 표현식`\n",
    "<br>  \n",
    "람다함수\n",
    "- 표현식을 계산한 결괏값을 반환하는 함수, 익명 함수라고도 함 \n",
    "\n",
    "특징\n",
    "- return문을 가질 수 없음\n",
    "- 간편 조건문 외 조건문이나 반복문을 가질 수 없음  \n",
    "\n",
    "장점\n",
    "- 함수를 정의해서 사용하는 것보다 간결하게 사용 가능\n",
    "- def를 사용할 수 없는곳에서도 사용 가능"
   ]
  },
  {
   "cell_type": "code",
   "execution_count": 8,
   "metadata": {},
   "outputs": [
    {
     "name": "stdout",
     "output_type": "stream",
     "text": [
      "16\n",
      "4\n"
     ]
    }
   ],
   "source": [
    "rlt = (lambda x: x * x)(4)\n",
    "my_func = lambda n: n * 2\n",
    "\n",
    "print(rlt)\n",
    "print(my_func(2))"
   ]
  },
  {
   "cell_type": "code",
   "execution_count": 9,
   "metadata": {},
   "outputs": [
    {
     "name": "stdout",
     "output_type": "stream",
     "text": [
      "[10, 20, 30]\n"
     ]
    }
   ],
   "source": [
    "map_obj = map(lambda x:x*10,[1,2,3])\n",
    "print(list(map_obj))"
   ]
  },
  {
   "cell_type": "markdown",
   "metadata": {},
   "source": [
    "### <b>재귀 함수</b>\n",
    "자기 자신을 호출하는 함수  \n",
    "<br>\n",
    "무한한 호출을 목표로 하는 것이 아니며, 알고리즘 설계 및 구현에서 유용하게 활용\n",
    "- 알고리즘 중 재귀 함수로 로직을 표현하기 쉬운 경우가 있음(예-점화식)\n",
    "- 변수의 사용이 줄어들며, 코드의 가독성이 높아짐  \n",
    "\n",
    "1개 이상의 base case(종료되는 상황)가 존재하고, 수렴하도록 작성\n"
   ]
  },
  {
   "cell_type": "code",
   "execution_count": 10,
   "metadata": {},
   "outputs": [
    {
     "name": "stdout",
     "output_type": "stream",
     "text": [
      "1\n",
      "1\n",
      "2\n",
      "6\n"
     ]
    }
   ],
   "source": [
    "def factorial(n):\n",
    "    return 1 if n == 0 or n == 1 else n * factorial(n-1)\n",
    "\n",
    "print(factorial(0))\n",
    "print(factorial(1))\n",
    "print(factorial(2))\n",
    "print(factorial(3))\n"
   ]
  },
  {
   "cell_type": "markdown",
   "metadata": {},
   "source": [
    "#### 재귀 함수 주의 사항\n",
    "재귀 함수는 base case에 도달할 때까지 함수를 호출함 \n",
    "<br> \n",
    "메모리 스택이 넘치게 되면 프로그램이 동작하지 않게 됨  \n",
    "<br> \n",
    "파이썬에서 최대 재귀 깊이 1,000번을 넘어가게 되면 `Recursion Error` 발생  "
   ]
  },
  {
   "cell_type": "markdown",
   "metadata": {},
   "source": [
    "## <b>Ⅱ. 패킹/언패킹"
   ]
  },
  {
   "cell_type": "markdown",
   "metadata": {},
   "source": [
    "### <b>패킹/언패킹 연산자\n",
    "모든 시퀀스형(리스트,튜플 등)은 패킹/언패킹 연산자 `*`를 사용하여  \n",
    "객체의 패킹 또는 언패킹이 가능  \n",
    "<br>\n",
    "`x, *y = i,j,k`  \n",
    "<br>"
   ]
  },
  {
   "cell_type": "markdown",
   "metadata": {},
   "source": [
    "### <b>패킹</b>\n",
    "대입문의 좌변 변수에 위치  \n",
    "<br>\n",
    "우변의 객체 수가 좌변의 변수 수보다 많을 경우 객체를 순서대로 대입  \n",
    "<br>\n",
    "나머지 항목들은 모두 별 기호 표시된 변수에 리스트로 대입  \n",
    "<br>"
   ]
  },
  {
   "cell_type": "code",
   "execution_count": 12,
   "metadata": {},
   "outputs": [
    {
     "name": "stdout",
     "output_type": "stream",
     "text": [
      "1\n",
      "[2, 3, 4]\n"
     ]
    }
   ],
   "source": [
    "x, *y = 1,2,3,4\n",
    "print(x)\n",
    "print(y)"
   ]
  },
  {
   "cell_type": "markdown",
   "metadata": {},
   "source": [
    "### <b>언패킹</b>\n",
    "argument 이름이 *로 시작하는 경우, argument unpacking이라 함  \n",
    "- *패킹의 경우, 리스트로 대입\n",
    "- *언패킹의 경우 튜플 형태로 대입"
   ]
  },
  {
   "cell_type": "markdown",
   "metadata": {},
   "source": [
    "### <b>가변 인자`(*args)`</b>\n",
    "가변인자란?\n",
    "- 여러 개의 Positional Argument를 하나의 필수 parameter로 받아서 사용  \n",
    "\n",
    "가변인자는 언제 사용하는가?\n",
    "- 몇 개의 Positional Argument를 받을지 모르는 함수를 정의할 때 유용"
   ]
  },
  {
   "cell_type": "code",
   "execution_count": 16,
   "metadata": {},
   "outputs": [
    {
     "name": "stdout",
     "output_type": "stream",
     "text": [
      "1\n",
      "1\n",
      "2\n",
      "3\n",
      "4\n"
     ]
    }
   ],
   "source": [
    "def test(*values):\n",
    "    for v in values:\n",
    "        print(v)\n",
    "\n",
    "test(1)\n",
    "test(1,2,3,4)"
   ]
  },
  {
   "cell_type": "markdown",
   "metadata": {},
   "source": [
    "반드 시 받아야 하는 인자와 추가적인 인자를 구분해서 사용할 수 있음\n",
    "`def func(a,b,*c)`"
   ]
  },
  {
   "cell_type": "code",
   "execution_count": 18,
   "metadata": {},
   "outputs": [
    {
     "name": "stdout",
     "output_type": "stream",
     "text": [
      "1 2\n",
      "3\n",
      "4\n"
     ]
    }
   ],
   "source": [
    "def test(a,b,*c):\n",
    "    print(a,b)\n",
    "    for i in c:\n",
    "        print(i)\n",
    "\n",
    "test(1,2,3,4)"
   ]
  },
  {
   "cell_type": "markdown",
   "metadata": {},
   "source": [
    "### <b>가변 키워드 인자`(**kwargs)`</b>\n",
    "몇 개의 키워드 인자를 받을지 모르는 함수를 정의할 때 유용  \n",
    "<br>\n",
    "`(**kwargs)`는 딕셔너리로 묶여 처리되며, parameter에 **를 붙여 표현"
   ]
  },
  {
   "cell_type": "code",
   "execution_count": 21,
   "metadata": {},
   "outputs": [
    {
     "name": "stdout",
     "output_type": "stream",
     "text": [
      "(1, 2)\n",
      "{'a': 3, 'b': 4}\n"
     ]
    }
   ],
   "source": [
    "def test(*a,**b):\n",
    "    print(a)\n",
    "    print(b)\n",
    "\n",
    "test(1, 2, a = 3, b = 4)"
   ]
  },
  {
   "cell_type": "markdown",
   "metadata": {},
   "source": [
    "## <b>Ⅲ. 모듈"
   ]
  },
  {
   "cell_type": "markdown",
   "metadata": {},
   "source": [
    "### <b>모듈과 패키지</b>\n",
    "모듈\n",
    "- 특정 기능을 하는 코드를 파이썬 파일(.py) 단위로 작성한 것  \n",
    "\n",
    "패키지\n",
    "- 특정 기능과 관련된 여러 모듈의 집합\n",
    "- 패키지 안에는 또 다른 서브 패키지를 포함  \n",
    "<br>\n",
    "\n",
    "```python\n",
    "import module\n",
    "from module import fucntion\n",
    "from module import *\n",
    "\n",
    "from package import module\n",
    "from package.module import function\n",
    "```"
   ]
  },
  {
   "cell_type": "markdown",
   "metadata": {},
   "source": [
    "### <b>파이썬 라이브러리</b>\n",
    "파이썬에 기본적으로 설치된 모듈과 내장 함수  \n",
    "\n",
    "\n",
    "- PyPI(Python Package Index)에 저장된 외부 패키지들을  \n",
    "설치하도록 도와주는 패키지 관리 시스템  \n",
    "<br>\n",
    "```\n",
    "pip install package > 설치\n",
    "pip uninstall package > 삭제\n",
    "pip list > 패키지 목록\n",
    "pip show package > 특정 패키지 정보\n",
    "```"
   ]
  },
  {
   "cell_type": "markdown",
   "metadata": {},
   "source": [
    "### <b>파이썬 패키지 관리자(pip)</b>\n",
    "PyPI(Python Package Index)에 저장된 외부 패키지들을  \n",
    "설치하도록 도와주는 패키지 관리 시스템  "
   ]
  },
  {
   "cell_type": "markdown",
   "metadata": {},
   "source": [
    "### <b>파이썬 패키지 관리자(pip) 명령어</b>"
   ]
  },
  {
   "cell_type": "markdown",
   "metadata": {},
   "source": [
    "기본적인 명령어\n",
    "```\n",
    "pip install package -> 설치\n",
    "pip uninstall package -> 삭제\n",
    "pip list -> 패키지 목록\n",
    "pip show package -> 특정 패키지 정보\n",
    "```\n",
    "패키지 관리하기\n",
    "```\n",
    "pip freeze > requirements.txt  \n",
    "-> 내가 가지고 있는 패키지들을 버전과 함께 텍스트파일에 저장\n",
    "pip install -r requirements.txt  \n",
    "-> 전달해준 텍스트파일에 저장된 패키지들 저장\n",
    "```"
   ]
  },
  {
   "cell_type": "markdown",
   "metadata": {},
   "source": [
    "##"
   ]
  },
  {
   "cell_type": "markdown",
   "metadata": {},
   "source": [
    "## <b>Ⅳ. 모듈과 패키지 활용하기</b>"
   ]
  },
  {
   "cell_type": "markdown",
   "metadata": {},
   "source": [
    "### <b>패키지</b>\n",
    "패키지는 여러 모듈/하위 패키지로 구조화\n",
    "- 예시: package.module  \n",
    "\n",
    "모든 폴더에는 _init_.py를 만들어 패키지로 인식  \n",
    "<br>\n",
    "폴더: 패키지, 파이썬 파일: 모듈\n"
   ]
  }
 ],
 "metadata": {
  "kernelspec": {
   "display_name": "Python 3.9.13 64-bit",
   "language": "python",
   "name": "python3"
  },
  "language_info": {
   "codemirror_mode": {
    "name": "ipython",
    "version": 3
   },
   "file_extension": ".py",
   "mimetype": "text/x-python",
   "name": "python",
   "nbconvert_exporter": "python",
   "pygments_lexer": "ipython3",
   "version": "3.9.13"
  },
  "orig_nbformat": 4,
  "vscode": {
   "interpreter": {
    "hash": "c4b9ebf4ca459396e2ad1150752490c26670c1a037c08cad955a4425787bec2e"
   }
  }
 },
 "nbformat": 4,
 "nbformat_minor": 2
}
