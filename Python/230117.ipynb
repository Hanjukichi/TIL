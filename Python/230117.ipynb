{
 "cells": [
  {
   "cell_type": "markdown",
   "metadata": {},
   "source": [
    "# <b>코드스타일 가이드\n",
    "파이썬에서 제안하는 스타일 가이드\n",
    "[PEP8](https://www.python.org/dev/peps/pep-0008)  \n",
    "각 회사/프로젝트마다 따로 스타일 가이드를 설정하기도 함"
   ]
  },
  {
   "cell_type": "markdown",
   "metadata": {},
   "source": [
    "# <b>제어문\n",
    "- 조건문\n",
    "- 반복문"
   ]
  },
  {
   "cell_type": "markdown",
   "metadata": {},
   "source": [
    "## 1. 조건문\n",
    "참/거짓을 판단할 수 있는 조건식과 함께 사용"
   ]
  },
  {
   "cell_type": "markdown",
   "metadata": {},
   "source": [
    "### 기본형식(`if`)\n",
    "조건에는 참/거짓에 대한 조건식\n",
    "- 조건이 참인 경우 이후 들여쓰기 되어있는 코드블록을 실행\n",
    "- 이외의 경우 `else` 이후 들여쓰기 되어있는 코드블록을 실행  \n",
    "※`else`는 선택적으로 사용 가능"
   ]
  },
  {
   "cell_type": "code",
   "execution_count": 1,
   "metadata": {},
   "outputs": [
    {
     "name": "stdout",
     "output_type": "stream",
     "text": [
      "홀수입니다\n"
     ]
    }
   ],
   "source": [
    "num = int(input('숫자를 입력하시요:'))\n",
    "if num % 2 == 0:\n",
    "    print(\"짝수입니다.\")\n",
    "else:\n",
    "    print(\"홀수입니다\")"
   ]
  },
  {
   "cell_type": "markdown",
   "metadata": {},
   "source": [
    "### 복수 조건문\n",
    "`elif`를 활용하여 표현함"
   ]
  },
  {
   "cell_type": "code",
   "execution_count": 2,
   "metadata": {},
   "outputs": [
    {
     "name": "stdout",
     "output_type": "stream",
     "text": [
      "보통\n"
     ]
    }
   ],
   "source": [
    "dust = int(input('미세먼지 농도는 어떻습니까?'))\n",
    "if dust > 150:\n",
    "    print(\"매우 나쁨\")\n",
    "elif dust > 80:\n",
    "    print(\"나쁨\")\n",
    "elif dust > 30:\n",
    "    print(\"보통\")\n",
    "else:\n",
    "    print(\"좋음\")"
   ]
  },
  {
   "cell_type": "markdown",
   "metadata": {},
   "source": [
    "### 중첩 조건문\n",
    "조건문은 다른 조건문에 중첩되어 사용될 수 있음  \n",
    "※ 들여쓰기에 유의하여 작성할 것"
   ]
  },
  {
   "cell_type": "code",
   "execution_count": null,
   "metadata": {},
   "outputs": [],
   "source": [
    "# 실습문제\n",
    "dust = int(input('미세먼지 농도는 어떻습니까?'))\n",
    "if dust > 150:\n",
    "    print(\"매우 나쁨\")\n",
    "    if dust > 300:\n",
    "        print(\"실외 활동을 자제하세요\")\n",
    "elif dust > 80:\n",
    "    print(\"나쁨\")\n",
    "elif dust > 30:\n",
    "    print(\"보통\")\n",
    "elif dust >= 0:\n",
    "    print(\"좋음\")\n",
    "else:\n",
    "    print(\"값이 잘못되었습니다.\")"
   ]
  },
  {
   "cell_type": "markdown",
   "metadata": {},
   "source": [
    "### 조건 표현식\n",
    "삼항 연산자로 부르기도 함  \n",
    "`if`와 `else`의 조건문을 한 줄에 작성함  \n",
    "`value = num if num >= 0 else -num`"
   ]
  },
  {
   "cell_type": "code",
   "execution_count": 5,
   "metadata": {},
   "outputs": [
    {
     "name": "stdout",
     "output_type": "stream",
     "text": [
      "홀수입니다\n"
     ]
    }
   ],
   "source": [
    "num = 3\n",
    "result = '홀수입니다' if num % 2 == 1 else \"짝수입니다\"\n",
    "print(result)"
   ]
  },
  {
   "cell_type": "markdown",
   "metadata": {},
   "source": [
    "## 2. 반복문\n",
    "특정 조건을 만족할 때까지 같은 동작을 계속 반복하고 싶을 때 사용"
   ]
  },
  {
   "cell_type": "markdown",
   "metadata": {},
   "source": [
    "- `while`  \n",
    "종료 조건에 해당하는 코드를 통해 반복문을 종료시켜야함\n",
    "- `for`  \n",
    "반복가능한 객체를 모두 순회하면 종료(별도의 종료 조건이 필요 없음)\n",
    "- 반복 제어  \n",
    "`break`,`continue`,`for-else`"
   ]
  },
  {
   "cell_type": "markdown",
   "metadata": {},
   "source": [
    "### a. `while`문\n",
    "조건식이 참인 경우 반복적으로 코드를 실행  \n",
    "무한 루프를 하지 않도록 종료 조건이 반드시 필요"
   ]
  },
  {
   "cell_type": "code",
   "execution_count": 6,
   "metadata": {},
   "outputs": [
    {
     "name": "stdout",
     "output_type": "stream",
     "text": [
      "0\n",
      "1\n",
      "2\n",
      "3\n",
      "4\n",
      "끝\n"
     ]
    }
   ],
   "source": [
    "a = 0\n",
    "while a < 5:\n",
    "    print(a)\n",
    "    a += 1\n",
    "print('끝')"
   ]
  },
  {
   "cell_type": "markdown",
   "metadata": {},
   "source": [
    "#### 복합 연산자\n",
    "연산과 할당을 합쳐 놓은 것  \n",
    "`a += 1`"
   ]
  },
  {
   "cell_type": "markdown",
   "metadata": {},
   "source": [
    "### b. `for`문\n",
    "시퀀스를 포함한 순회 가능한 객체의 요소를 모두 순회  \n",
    "※별도의 종료 조건이 필요하지 않음"
   ]
  },
  {
   "cell_type": "code",
   "execution_count": 7,
   "metadata": {},
   "outputs": [
    {
     "name": "stdout",
     "output_type": "stream",
     "text": [
      "김\n",
      "한\n",
      "주\n"
     ]
    }
   ],
   "source": [
    "chars = input()\n",
    "for s in chars:\n",
    "    print(s)"
   ]
  },
  {
   "cell_type": "markdown",
   "metadata": {},
   "source": [
    "#### 딕셔너리 순회\n",
    "딕셔너리는 기본적으로 key를 순회하며, key를 통해 값을 활용"
   ]
  },
  {
   "cell_type": "markdown",
   "metadata": {},
   "source": [
    "#### 추가 메서드를 활용한 딕셔너리 순회\n",
    "- `keys()` : key로 구성된 결과\n",
    "- `values()` : value로 구성된 결과\n",
    "- `items()` : (key,value)의 튜플로 구성된 결과"
   ]
  },
  {
   "cell_type": "markdown",
   "metadata": {},
   "source": [
    "#### `enumerate` 순회\n",
    "`enumerate()` : 인덱스와 객체를 쌍으로 담은 열거형 객체 반환  \n",
    "`(index,value)` 형태의 tuple로 구성된 열거 객체를 반한"
   ]
  },
  {
   "cell_type": "markdown",
   "metadata": {},
   "source": [
    "#### List Comprehension\n",
    "표현식과 제어문을 통해 특정한 값을 가진 리스트를 간결하게 생성하는 방법  \n",
    "`[code for 변수 in iterable if 조건식]`"
   ]
  },
  {
   "cell_type": "code",
   "execution_count": 3,
   "metadata": {},
   "outputs": [
    {
     "name": "stdout",
     "output_type": "stream",
     "text": [
      "[1, 8, 27]\n"
     ]
    }
   ],
   "source": [
    "# 1~3의 세제곱 리스트 만들기\n",
    "cubic_list = [number**3 for number in range(1,4)]\n",
    "print(cubic_list)"
   ]
  },
  {
   "cell_type": "markdown",
   "metadata": {},
   "source": [
    "#### Dictionary Comprehension\n",
    "표현식과 제어문을 통해 특정한 값을 가진 딕셔너리를 간결하게 생성하는 방법  \n",
    "`[key:value for 변수 in iterable if 조건식]`"
   ]
  },
  {
   "cell_type": "code",
   "execution_count": 5,
   "metadata": {},
   "outputs": [
    {
     "name": "stdout",
     "output_type": "stream",
     "text": [
      "{1: 1, 2: 8, 3: 27}\n"
     ]
    }
   ],
   "source": [
    "# 1~3의 세제곱 리스트 만들기\n",
    "cubic_list = {number:number**3 for number in range(1,4)}\n",
    "print(cubic_list)"
   ]
  },
  {
   "cell_type": "markdown",
   "metadata": {},
   "source": [
    "### c. 반복문 제어\n",
    "- `break` :  \n",
    "반복문을 종료  \n",
    "- `continue` :   \n",
    "코드 이후의 코드 블록은 수행하지 않고, 다음 반복을 수행  \n",
    "- `for-else` :  \n",
    "끝까지 반복문을 실행한 이후에 `else`문 실행  \n",
    "`break`를 통해 중간에 종료되는 경우 `else`가 실행되지 않음  \n",
    "- `pass` :  \n",
    "아무것도하지 않음  "
   ]
  },
  {
   "cell_type": "code",
   "execution_count": 7,
   "metadata": {},
   "outputs": [
    {
     "name": "stdout",
     "output_type": "stream",
     "text": [
      "b가 없습니다.\n",
      "b!\n"
     ]
    }
   ],
   "source": [
    "# else 실행\n",
    "for char in 'apple':\n",
    "    if char == 'b':\n",
    "        print('b!')\n",
    "        break\n",
    "else:\n",
    "    print('b가 없습니다.')\n",
    "\n",
    "# break로 중단\n",
    "for char in 'banana':\n",
    "    if char == 'b':\n",
    "        print('b!')\n",
    "        break\n",
    "else:\n",
    "    print('b가 없습니다.')"
   ]
  }
 ],
 "metadata": {
  "kernelspec": {
   "display_name": "Python 3.9.13 64-bit",
   "language": "python",
   "name": "python3"
  },
  "language_info": {
   "codemirror_mode": {
    "name": "ipython",
    "version": 3
   },
   "file_extension": ".py",
   "mimetype": "text/x-python",
   "name": "python",
   "nbconvert_exporter": "python",
   "pygments_lexer": "ipython3",
   "version": "3.9.13"
  },
  "orig_nbformat": 4,
  "vscode": {
   "interpreter": {
    "hash": "c4b9ebf4ca459396e2ad1150752490c26670c1a037c08cad955a4425787bec2e"
   }
  }
 },
 "nbformat": 4,
 "nbformat_minor": 2
}
