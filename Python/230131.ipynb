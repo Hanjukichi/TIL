{
 "cells": [
  {
   "cell_type": "markdown",
   "metadata": {},
   "source": [
    "# <b>OOP와 예외처리</b>"
   ]
  },
  {
   "cell_type": "markdown",
   "metadata": {},
   "source": [
    "## <b>Ⅰ. 객체 지향의 핵심 개념</b>\n",
    "추상화: 핵심이 되는 부분만 추리기  \n",
    "\n",
    "상속: 코드의 재사용성을 증가, 기능을 확장  \n",
    "\n",
    "다형성: 각자의 특성에따라 다른 결과 만들기  \n",
    "\n",
    "캡슐화: 데이터 보호하기\n"
   ]
  },
  {
   "cell_type": "markdown",
   "metadata": {},
   "source": [
    "### <b>추상화</b>\n",
    "핵심이 되는 부분만 추리기  \n",
    "\n",
    "현실 세계를 프로그램 설계에 반영\n",
    "- 복잡한 것은 숨기고, 필요한 것만 드러내기"
   ]
  },
  {
   "cell_type": "markdown",
   "metadata": {},
   "source": [
    "### <b>상속</b>\n",
    "상속이란\n",
    "- 두 클래스 사이 부모 - 자식 관계를 정립하는 것  \n",
    "\n",
    "클래스는 상속이 가능함\n",
    "- 모든 파이썬 클래스는 object를 상속받음  \n",
    "\n",
    "- 하위클래스: 상위 클래스의 속성, 행동, 관계 및 제약 조건을 모두 상속  \n",
    "\n",
    "- 코드 재사용성 증가: 부모클래스의 속성, 메서드가 자식 클래승 상속"
   ]
  },
  {
   "cell_type": "markdown",
   "metadata": {},
   "source": [
    "#### <b>상속 정리</b>\n",
    "- 파이썬의 모든 클래스는 object로부터 상속됨  \n",
    "\n",
    "- 부모 클래스의 모든 요소(속성,메서드)가 상속됨  \n",
    "\n",
    "- super()를 통해 부모 클래스의 요소를 호출할 수 있음  \n",
    "\n",
    "- 메서드 오버라이딩을 통해 자식 클래스에서 재정의 가능함  \n",
    "\n",
    "- 이름 공간은 인스턴스, 자식클래스, 부모클래스 순으로 탐색  \n"
   ]
  },
  {
   "cell_type": "markdown",
   "metadata": {},
   "source": [
    "#### <b>다중 상속</b>\n",
    "- 두 개 이상의 클래스를 상속 받는 경우  \n",
    "\n",
    "- 상속받은 모든 클래스의 요소를 활용 가능함  \n",
    "\n",
    "- 중복된 속성이나 메서드가 있는 경우 상속 순서에 의해 결정됨  "
   ]
  },
  {
   "cell_type": "markdown",
   "metadata": {},
   "source": [
    "#### <b>상속 관련 함수와 메서드</b>\n",
    "`isinstance(object,classinfo)`\n",
    "- classinfo의 instance거나 subclass인 경우 `True`  \n",
    "\n",
    "`issubclass(class,classinfo)`\n",
    "- class가 classinfo의 subclass면 `True`\n",
    "- classinfo의 모든 항목을 검사  \n",
    "\n",
    "`super()`\n",
    "- 자식클래스에서 부모클래스를 사용하고 싶은 경우  \n",
    "\n",
    "`mro()`(Method Resulution Order)\n",
    "- 해당 인스턴스의 클래스가 어떤 부모 클래스를 가지는지 확인\n",
    "- 기존의 인스턴스 -> 클래스 순으로 이름 공간을 탐색하는 과정에서  \n",
    "상속관계에 있으면 인스턴스 -> 자식를래스 -> 부모클래스"
   ]
  },
  {
   "cell_type": "markdown",
   "metadata": {},
   "source": [
    "### <b>다형성</b>\n",
    "- 동일한 메서드가 클래스가 클래스에 따라 다르게 행동할 수 있음  \n",
    "\n",
    "- 즉, 서로 다른 클래스에 속해있는 객체들이 동일한 메시지에 대해  \n",
    "다른 방식으로 응답할 수 있음"
   ]
  },
  {
   "cell_type": "markdown",
   "metadata": {},
   "source": [
    "#### <b>메서드 오버라이딩</b>\n",
    "상속받은 메서드를 재정의\n",
    "- 클래스 상속 시, 부모 클래스에서 정의한 메서드를  \n",
    "자식 클래스에서 변경  \n",
    "\n",
    "- 부모 클래스의 메서드 이름과 기본 기능은 그대로 사용하지만,  \n",
    "특정 기능을 바꾸고 싶을 때 사용  \n",
    "\n",
    "- 상속받은 클래스에서 같은 이름의 메서드로 덮어씀  \n",
    "\n",
    "- 부모 클래스의 메서드를 실행시키고 싶은 경우 `super`를 활용"
   ]
  },
  {
   "cell_type": "markdown",
   "metadata": {},
   "source": [
    "### <b>캡슐화</b>\n",
    "객체의 일부 구현 내용에 대해 외부로부터의 직접적 액세스 차단  \n",
    "\n",
    "파이썬에서 암묵적으로 존재하지만, 언어적으로는 존재하지 않음"
   ]
  },
  {
   "cell_type": "markdown",
   "metadata": {},
   "source": [
    "#### <b>접근제어자 종류</b>\n",
    "Public Access Modifier\n",
    "- 모두 가능  \n",
    "\n",
    "Pretected Access Modifer\n",
    "- 상속 관계에서만 가능  \n",
    "\n",
    "Pivate Access Modifier\n",
    "- 나만 가능"
   ]
  },
  {
   "cell_type": "markdown",
   "metadata": {},
   "source": [
    "#### <b>Public Member</b>\n",
    "- 언더바 없이 시작하는 메서드나 속성  \n",
    "\n",
    "- 어디서나 호출이 가능, 하위 클래스 overrid 허용  \n",
    "\n",
    "- 일반적으로 작성되는 메서도와 속성의 대다수를 차지"
   ]
  },
  {
   "cell_type": "markdown",
   "metadata": {},
   "source": [
    "#### <b>Protected Member</b>\n",
    "- 언더바 1개로 시작하는 메서드나 속성  \n",
    "\n",
    "- 암묵적 규칙에 의해 부모 클래스 내부와 자식 클래스에서만 호출 가능  \n",
    "\n",
    "- 하위 클래스 override 허용\n",
    "\n",
    "- 메서드를 통해 호출하고 변경하는 것을 추천함"
   ]
  },
  {
   "cell_type": "markdown",
   "metadata": {},
   "source": [
    "#### <b>Private Member</b>\n",
    "- 언더바 2개로 시작하는 메서드나 속성  \n",
    "\n",
    "- 본 클래스 내부에서만 사용이 가능  \n",
    "\n",
    "- 하위 클래스 상속 및 호출 불가능(오류)  \n",
    "\n",
    "- 외부 호출 불가능(오류)"
   ]
  },
  {
   "cell_type": "markdown",
   "metadata": {},
   "source": [
    "#### <b>`getter`,`setter`</b>\n",
    "변수에 접근할 수 있는 메서드를 별도로 생성  \n",
    "\n",
    "getter 메서드 : 변수의 값을 읽는 메서드\n",
    "- `@property` 데코레이터 사용  \n",
    "\n",
    "setter 메서드 : 변수의 값을 설정하는 성격의 메서드\n",
    "- `@변수.setter` 사용"
   ]
  },
  {
   "cell_type": "code",
   "execution_count": 4,
   "metadata": {},
   "outputs": [
    {
     "name": "stdout",
     "output_type": "stream",
     "text": [
      "setter 호출\n",
      "getter 호출\n",
      "25\n",
      "setter 호출\n",
      "getter 호출\n",
      "30\n"
     ]
    }
   ],
   "source": [
    "class Person:\n",
    "    def __init__(self):\n",
    "        self._age = 0\n",
    "\n",
    "    def get_age(self):\n",
    "        print('getter 호출')\n",
    "        return self._age\n",
    "\n",
    "    def set_age(self,age):\n",
    "        print('setter 호출')\n",
    "        self._age = age\n",
    "\n",
    "    age = property(get_age,set_age)\n",
    "\n",
    "p1 = Person()\n",
    "\n",
    "p1.set_age(25)\n",
    "print(p1.get_age())\n",
    "\n",
    "p1.age = 30\n",
    "print(p1.age)"
   ]
  },
  {
   "cell_type": "code",
   "execution_count": 6,
   "metadata": {},
   "outputs": [
    {
     "name": "stdout",
     "output_type": "stream",
     "text": [
      "setter 호출\n",
      "getter 호출\n",
      "30\n"
     ]
    }
   ],
   "source": [
    "class Person:\n",
    "    def __init__(self):\n",
    "        self._age = 0\n",
    "\n",
    "    @property\n",
    "    def age(self):\n",
    "        print('getter 호출')\n",
    "        return self._age\n",
    "\n",
    "    @age.setter\n",
    "    def age(self,age):\n",
    "        print('setter 호출')\n",
    "        self._age = age\n",
    "\n",
    "p1 = Person()\n",
    "\n",
    "p1.age = 30\n",
    "print(p1.age)\n",
    "\n"
   ]
  },
  {
   "cell_type": "markdown",
   "metadata": {},
   "source": [
    "## <b>Ⅱ. 디버깅과 예외처리</b>"
   ]
  },
  {
   "cell_type": "markdown",
   "metadata": {},
   "source": [
    "### <b>디버깅 정의</b>\n",
    "\n",
    "디버깅 : 잘못된 프포그램을 수정하는 것  \n",
    "\n",
    "에러 메시지가 발생하는 경우\n",
    "- 해당 하는 위치를 찾아 메시지를 해결  \n",
    "\n",
    "로직 에러가 발생하는 경우\n",
    "- 명시적인 에러 메시지 없이 예상과 다른 결과가 나온 경우"
   ]
  },
  {
   "cell_type": "markdown",
   "metadata": {},
   "source": [
    "### <b>디버깅 정의</b>\n",
    "\n",
    "print 함수 활용\n",
    "- 특정 함수 결과, 반복/조건 결과 등 나눠서 생각,  \n",
    "코드를 bisection으로 나눠서 생각  \n",
    "\n",
    "개발 환경이 제공하는 기능 활용\n",
    "- breakpoint, 변수 조회 등  \n",
    "\n",
    "python tutor 활용 (단순 파이썬 코드인 경우)  \n",
    "\n",
    "뇌컴파일, 눈디버깅"
   ]
  },
  {
   "cell_type": "markdown",
   "metadata": {},
   "source": [
    "### <b>문법 에러</b>\n",
    "syntaxError가 발생하면 파이썬 프로그램 실행 X  \n",
    "\n",
    "파일이름, 줄번호, ^문자를 통해 문제가 발생한 위치를 표현\n",
    "- 줄에서 에러가 감지된 가장 앞 위치를 가리키는 캐럿`^`기호 표시\n"
   ]
  },
  {
   "cell_type": "markdown",
   "metadata": {},
   "source": [
    "### <b>예외</b>\n",
    "실행 도중 예상치 못한 상황 > 프로그램 멈춤\n",
    "- 문장이나 표현식이 문법적으로 올바르더라도 발생하는 에러  \n",
    "\n",
    "실행 중에 감지되는 에러들을 예외라고 부름  \n",
    "\n",
    "예외는 여러타입으로 분할, 타입이 메시지의 일부로 출력  \n",
    "\n",
    "모든 내장 예외는 Exception Class를 상속받아 이뤄짐  \n",
    "\n",
    "사용자 정의 예외를 만들어 관리할 수 있음"
   ]
  },
  {
   "cell_type": "markdown",
   "metadata": {},
   "source": [
    "### <b>예외처리 종합</b>\n",
    "`try` : 예외를 실행함  \n",
    "\n",
    "`except` : `try`에서 예외가 발생하면 실행  \n",
    "\n",
    "`else` : try문에서 예외가 발생하지 않으면 실행  \n",
    "\n",
    "`finally` : 예외 발생 여부와 상관없이 실행  \n",
    "\n",
    "`as err` : 원본 에러 메시지를 사용할 수 있음  \n",
    "```python\n",
    "except Indexerror as err:\n",
    "    print(f'{err}:에러가 발생하였습니다.')\n",
    "```\n",
    "\n",
    "`raise` : 임의로 예외를 발생\n",
    "- 보통 실무적 환경에서 사용  \n",
    "\n",
    "`assert` : 임의로 예외를 발생\n",
    "- 코드 테스트를 위해 보통 사용"
   ]
  }
 ],
 "metadata": {
  "kernelspec": {
   "display_name": "Python 3.9.13 64-bit",
   "language": "python",
   "name": "python3"
  },
  "language_info": {
   "codemirror_mode": {
    "name": "ipython",
    "version": 3
   },
   "file_extension": ".py",
   "mimetype": "text/x-python",
   "name": "python",
   "nbconvert_exporter": "python",
   "pygments_lexer": "ipython3",
   "version": "3.9.13"
  },
  "orig_nbformat": 4,
  "vscode": {
   "interpreter": {
    "hash": "c4b9ebf4ca459396e2ad1150752490c26670c1a037c08cad955a4425787bec2e"
   }
  }
 },
 "nbformat": 4,
 "nbformat_minor": 2
}
