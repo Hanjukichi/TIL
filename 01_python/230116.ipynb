{
 "cells": [
  {
   "cell_type": "markdown",
   "metadata": {},
   "source": [
    "# 변수와 식별자"
   ]
  },
  {
   "cell_type": "markdown",
   "metadata": {},
   "source": [
    "## 1. 변수\n",
    "\n",
    "변수란?\n",
    "- 데이터를 저장하기 위해 사용\n",
    "- 변수를 사용하면 복자한 값들을 쉽게 사용 가능  \n",
    "\n",
    "동일 변수에 다른 데이터를 언제든 할당 가능 => 변수라고 불림\n",
    "\n",
    "변수를 사용해야 하는 이유\n",
    "- 코드의 가독성 증가\n",
    "- 숫자를 직접 적지 않고, 의미 단위로 작성 가능\n",
    "- 코드 수정이 용이해짐\n",
    "\n",
    "변수는 할당 연산자(=)를 통해 값을 할당  \n",
    "같은 값을 동시에 할당 가능  \n",
    "다른 값을 동시에 할당할 수 잇음\n"
   ]
  },
  {
   "cell_type": "markdown",
   "metadata": {},
   "source": [
    "##### 실습문제\n",
    "x = 10, y = 20이다.\n",
    "두 값을 서로 바꾸어라"
   ]
  },
  {
   "cell_type": "code",
   "execution_count": 2,
   "metadata": {},
   "outputs": [
    {
     "name": "stdout",
     "output_type": "stream",
     "text": [
      "20 10\n",
      "20 10\n"
     ]
    }
   ],
   "source": [
    "# 방법1 - 임시 변수 활용\n",
    "x,y= 10,20\n",
    "tmp = x\n",
    "x= y\n",
    "y= tmp\n",
    "print(x,y)\n",
    "\n",
    "# 방법2 - Pythonic!\n",
    "x,y= 10,20\n",
    "x,y = y,x\n",
    "print(x,y)"
   ]
  },
  {
   "cell_type": "markdown",
   "metadata": {},
   "source": [
    "## 2. 식별자\n",
    "변수의 이름을 식별자라고 함  \n",
    "읽기 쉽고 이해하기 쉬운 변수명이 최고  \n",
    "변수 이름 규칙\n",
    "- 식별자의 이름은 영문 알파벳,언더스코어,숫자로 구성\n",
    "- 첫 글자에 숫자가 올 수 없음\n",
    "- 길이 ㅈ한이 업고. 대소문자를 구별\n",
    "- 다음의 키워드(keywords)는 예약어(reserved words)로 사용할 수 없음\n",
    "- 내장 함수나 모듈 등의 이름도 사용하지 않아야 함"
   ]
  },
  {
   "cell_type": "markdown",
   "metadata": {},
   "source": [
    "## 3. 주석\n",
    "코드의 실행에 영향을 미치지 않는 나만의 메모 -> #  \n",
    "여러줄도 가능함  \n",
    "주석다는 습관이 필요"
   ]
  },
  {
   "cell_type": "markdown",
   "metadata": {},
   "source": [
    "# 연산자"
   ]
  },
  {
   "cell_type": "markdown",
   "metadata": {},
   "source": [
    "## 산술 연산자\n",
    "- 덧셈 : +\n",
    "- 뺄셈 : -\n",
    "- 곱셈 : *\n",
    "- 나눗셈 : /\n",
    "- 몫 : //\n",
    "- 거듭제곱 : **\n",
    "\n",
    "우선 순위 : 기본적으로 수학에서 우선순위와 같음"
   ]
  },
  {
   "cell_type": "markdown",
   "metadata": {},
   "source": [
    "# 자료형"
   ]
  },
  {
   "cell_type": "markdown",
   "metadata": {},
   "source": [
    "## 1. 자료형과 메모리\n",
    "변수 : 할당받은 메모리 주소를 부르기 쉽게 변형한 것  \n",
    "변수 선언 : 대부분의 프로그래밍에서 가장 먼저 하는 일"
   ]
  },
  {
   "cell_type": "markdown",
   "metadata": {},
   "source": [
    "## 2. id()\n",
    "`id(my_age)` : my_age에 할당된 주소값을 나타냄"
   ]
  },
  {
   "cell_type": "markdown",
   "metadata": {},
   "source": [
    "## 3. 자료형 분류\n",
    "수치형(Numeric Type)\n",
    "- int(정수,integer)\n",
    "- float(부동소수점, 실수, floating point number)\n",
    "- complex (복소수, complex number)  \n",
    "\n",
    "문자열(String Type)  \n",
    "불린형(Bollean Type)  \n",
    "None"
   ]
  },
  {
   "cell_type": "markdown",
   "metadata": {},
   "source": [
    "### a. 정수 자료형\n",
    "일반적인 수학 연산 가능  \n",
    "여러 진수 표현 가능  \n",
    "\n",
    "### b. 실수 자료형\n",
    "유리수와 무리수를포함하는 '실수를 다루는 자료형  \n",
    "파이썬에선 3.2 - 3.1 != 0.1이다 >> 부동소수점 때문  \n",
    "매우 작은 수보다 작은지를 확인하거나 math 모듈 활용"
   ]
  },
  {
   "cell_type": "markdown",
   "metadata": {},
   "source": [
    "### c. 문자열 자료형\n",
    "모든 문자는 자료형의 정의  \n",
    "문자열은 `'`나 `\"` 활용  \n",
    "PEP8에서는 소스코드 내에서 하나의 문장부호를 선택하여 유지하도록 함  \n",
    "\n",
    "따옴표 안에 다른 종류의 따옴표를 넣어서 문자열로 표현  \n",
    "여러줄 표현 => 삼중 따옴표  \n",
    "\n",
    "역슬래시뒤에 특정문자가 와서 특수한 기능을 하는 문자 조합\n",
    "- `\\n` : 줄 바꿈\n",
    "- `\\t` : 탭\n",
    "- `\\r` : 캐리지 리턴\n",
    "- `\\O` : 널(Null)\n",
    "- `\\\\` : \\\n",
    "- `\\'` : 단일인용부호(')\n",
    "- `\\\"` : 이중인용부호(\")\n",
    "\n",
    "문자열 연산\n",
    "- `\"Hello\"+\"world\"` = `\"Hello world\"`\n",
    "- `\"Python\"*3` = `\"PythonPythonPython`\"\n",
    "\n",
    "String Interpolation(문자열을 변수를 활용하여 만드는 법)  \n",
    "`print(f'Hello, {name}! 성적은 {score}'`)"
   ]
  },
  {
   "cell_type": "markdown",
   "metadata": {},
   "source": [
    "### d. None\n",
    "없음을 나타내는 데이터  \n",
    "`0==None` : 오류남  \n",
    "`\"\"==None` : 오류남"
   ]
  },
  {
   "cell_type": "markdown",
   "metadata": {},
   "source": [
    "### e. 불린형 자료형\n",
    "논리 자료형으로 참과 거짓을 표현하는 자료형  \n",
    "`True` 또는 `False`를 값으로 가짐  \n",
    "비교 / 논리 연산에서 활용됨"
   ]
  },
  {
   "cell_type": "markdown",
   "metadata": {},
   "source": [
    "#### 비교 연산자\n",
    "수학에서 등호와 부등호와 동일한 개념\n",
    "- `<` : 미만\n",
    "- `<=` : 이하\n",
    "- `>` : 초과\n",
    "- `>=` : 이상\n",
    "- `==` : 같음\n",
    "- `!=` : 같지 않음\n",
    "- `is` : 객체 아이덴티티\n",
    "- `is not` : 객체 아이덴티티가 아닌 경우"
   ]
  },
  {
   "cell_type": "markdown",
   "metadata": {},
   "source": [
    "#### 논리 연산자\n",
    "- `and` : A n B\n",
    "- `or` : A u B\n",
    "- `not` : True -> False, False -> True  \n",
    "\n",
    "`not`이 `and`와 `or`보다 먼저 사용됨\n",
    "\n",
    "```python\n",
    "print(not True and False or not False) = print(((not True) and False) or (not False)) = True\n",
    "```\n",
    "\n",
    "`0,0.0,[],{},(),None,\"\"`는 `False`값을 반환한다\n",
    "```python\n",
    "print(not 0) = True\n",
    "```"
   ]
  },
  {
   "cell_type": "markdown",
   "metadata": {},
   "source": [
    "##### 실습문제\n",
    "22시가 지났고, 졸리면 True 졸리지 않다면 False"
   ]
  },
  {
   "cell_type": "code",
   "execution_count": 6,
   "metadata": {},
   "outputs": [
    {
     "name": "stdout",
     "output_type": "stream",
     "text": [
      "True\n"
     ]
    }
   ],
   "source": [
    "time = 23\n",
    "dict_status = {0:'not sleepy',1:'sleepy'}\n",
    "status = dict_status[1]\n",
    "print((not time < 22) and (status == 'sleepy'))"
   ]
  },
  {
   "cell_type": "markdown",
   "metadata": {},
   "source": [
    "#### 논리 연산자 단축평가\n",
    "`and` 사용시 앞부분이 `False`이면 뒷부분 계산 제외  \n",
    "`or` 사용시 앞부분이 `True`이면 뒷부분 계산 제외  \n",
    "`0`은 `False`, `1`은 `True`"
   ]
  },
  {
   "cell_type": "markdown",
   "metadata": {},
   "source": [
    "# 컨테이너"
   ]
  },
  {
   "cell_type": "markdown",
   "metadata": {},
   "source": [
    "여러 개의 데이터를 담을 수 있는 것으로 서로 다른 자료형을 저장할 수 있음  ex)`List` \n",
    "\n",
    "- 순서가 있는 데이터\n",
    "- 순서가 없는 데이터\n",
    "\n",
    "순서가 있다 != 정렬되어 있다."
   ]
  },
  {
   "cell_type": "markdown",
   "metadata": {},
   "source": [
    "## 1. 시퀀스형\n",
    "- 리스트\n",
    "- 튜플\n",
    "- 레인지"
   ]
  },
  {
   "cell_type": "markdown",
   "metadata": {},
   "source": [
    "### a. 리스트\n",
    "대괄호 `[]` 혹은 `List()`를 통해 생성  \n",
    "어떠한 자료도 저장 가능, 리스트 안에 리스트도 넣을 수 있음  \n",
    "생성 이후 내용 변경 가능 -> 가변 자료형  \n",
    "가장 흔히 사용  \n",
    "순서가 있는 시퀀스로 인덱스를 통해 접근 가능 -> `List[i]`  "
   ]
  },
  {
   "cell_type": "markdown",
   "metadata": {},
   "source": [
    "### b. 튜플\n",
    "튜플은 여러 개의 갓을 순서가 있는 구조로 저장하고 싶을 때 사용  \n",
    "리스트와 달리 값 변경 불가능 -> 불변 자료형  \n",
    "항상 소괄호 형태로 사용 `()`  \n",
    "\n",
    "- 단일 항목의 경우  \n",
    "하나의 항목으로 구성된 튜플은 생성시 값 뒤에 쉼표를 붙여야 함\n",
    "- 복수 항목의 경우  \n",
    "마지막 항목에 붙은 쉼표는 없어도 되지만, 넣는 것을 권장\n",
    "\n",
    "※ `a=1,` 경우 `a`는 튜플이 됨"
   ]
  },
  {
   "cell_type": "code",
   "execution_count": 8,
   "metadata": {},
   "outputs": [
    {
     "name": "stdout",
     "output_type": "stream",
     "text": [
      "20 10\n"
     ]
    }
   ],
   "source": [
    "# 두 값을 서로 변경할 때\n",
    "a,b = 10,20\n",
    "c = (b,a)\n",
    "a,b = c\n",
    "print(a,b)"
   ]
  },
  {
   "cell_type": "markdown",
   "metadata": {},
   "source": [
    "### c. 레인지\n",
    "숫자의 시퀀스를 나타내기 위해 사용  \n",
    "주로 반복문과 함께 사용됨  \n",
    "- `range(n)` : 0부터 n-1까지\n",
    "- `range(n,m)` : n부터 m-1까지"
   ]
  },
  {
   "cell_type": "markdown",
   "metadata": {},
   "source": [
    "### 슬라이싱 연산자\n",
    "`[]`와 `:` 그리고 인덱스를 활용하여 시퀀스형 자료형의 특정 부분만 잘라낼 수 있음  \n",
    "- `string[3:6]` : string의 3번 인덱스부터 5번 인덱스까지 나타냄  \n",
    "- `string[:6]` : string 의 처음부터 5번 인덱스까지 나타냄  \n",
    "- `string[3:]` : string의 3번 인덱스부터 끝까지 나타냄"
   ]
  },
  {
   "cell_type": "markdown",
   "metadata": {},
   "source": [
    "## 2. 비시퀀스형\n",
    "- 세트\n",
    "- 딕셔너리"
   ]
  },
  {
   "cell_type": "markdown",
   "metadata": {},
   "source": [
    "### a. 딕셔너리\n",
    "키-값(key-value)쌍으로 이루어진 자료형(3.7부터는 순서형)  \n",
    "- key : 변경 불가능한 데이터만 활용 가능  \n",
    "- value : 어떠한형 태든 관계없음\n",
    "\n"
   ]
  },
  {
   "cell_type": "markdown",
   "metadata": {},
   "source": [
    "### b. 형변환\n",
    "데이터 형태는 서로 변환할 수 있음\n",
    "- 암시적 형 변환 :  \n",
    "사용자가의도하지 않고, 파이썬 내부적으로 자료형을 변환하는 경우  \n",
    "- 명시적 형 변환:  \n",
    "사용자가 특정 함수르 활용하여 의도적으로 자료형을 변환하는 경우  \n",
    "\n",
    "ex) `print(True+3)` = 3"
   ]
  }
 ],
 "metadata": {
  "kernelspec": {
   "display_name": "Python 3.9.13 64-bit",
   "language": "python",
   "name": "python3"
  },
  "language_info": {
   "codemirror_mode": {
    "name": "ipython",
    "version": 3
   },
   "file_extension": ".py",
   "mimetype": "text/x-python",
   "name": "python",
   "nbconvert_exporter": "python",
   "pygments_lexer": "ipython3",
   "version": "3.9.13"
  },
  "orig_nbformat": 4,
  "vscode": {
   "interpreter": {
    "hash": "c4b9ebf4ca459396e2ad1150752490c26670c1a037c08cad955a4425787bec2e"
   }
  }
 },
 "nbformat": 4,
 "nbformat_minor": 2
}
