{
 "cells": [
  {
   "cell_type": "markdown",
   "metadata": {},
   "source": [
    "# <b>데이터 구조 2</b>"
   ]
  },
  {
   "cell_type": "markdown",
   "metadata": {},
   "source": [
    "## <b>Ⅰ 순서가 없는 데이터 구조</b>"
   ]
  },
  {
   "cell_type": "markdown",
   "metadata": {},
   "source": [
    "### <b>셋(set)</b>\n",
    "Set이란 중복되는 요소가 없이, 순서에 상관없는 데이터들의 묶음\n",
    "- 데이터의 중복을 허용 X -> 중복되는 원소가 있다면 하나만 저장\n",
    "- 순서가 없음 -> 인덱스를 이용한 접근 불가능  \n",
    "\n",
    "수학에서의 집합을 표현한 컨테이너\n",
    "- 집합 연산이 가능  \n",
    "- `set([1,1,2,2,2,7,7,7])` -> `{1,2,7}` \n",
    "\n",
    "가변 자료형\n",
    "- 담고 있는 요소를 삽입, 변경, 제거 가능  \n",
    "\n",
    "관련함수\n",
    "- `s.isdisjoint(t)` : 서로소 여부 반환\n",
    "- `s.issubset(t)` : s ⊂ t 여부 반환\n",
    "- `s.issuperset(t)` : s ⊃ t 여부 반환"
   ]
  },
  {
   "cell_type": "markdown",
   "metadata": {},
   "source": [
    "### <b>딕셔너리</b>\n",
    "키-값(key-value)쌍으로 이루어진 자료형  \n",
    "\n",
    "딕셔너리의 키(Key)\n",
    "- 변경 불가능한 데이터만 가능\n",
    "- string, integer, float, boolean, tuple, range  \n",
    "\n",
    "딕셔너리의 값(Value)\n",
    "- 어떤 형태든 관계없음"
   ]
  },
  {
   "cell_type": "markdown",
   "metadata": {},
   "source": [
    "## <b>Ⅱ 얖은 복사와 깊은 복사</b>\n"
   ]
  },
  {
   "cell_type": "markdown",
   "metadata": {},
   "source": [
    "### <b>자료형과 메모리</b>\n",
    "데이터 10을 컴퓨터가 기억하는 과정\n",
    "- 10을 저장할 공간을 메모리에 만듦\n",
    "- 저장할 공간에 대한 주소 할당\n",
    "- 할당받은 주소 기억\n",
    "- 10이라는 데이터를 해당 주소로 찾아가서 저장\n",
    "- 10이 필요해지면 해당 주소로 가서 읽음  \n",
    "\n",
    "하나의 기억에 하나의 주소가 필요\n",
    "- 100개의 데이터 -> 100개의 주소\n",
    "\n",
    "연속적인 공간에 데이터 저장\n",
    "- 하나의 주소(맨 처음 주소)로 탐색 가능"
   ]
  },
  {
   "cell_type": "markdown",
   "metadata": {},
   "source": [
    "### <b>얕은 복사</b>\n",
    "\n",
    "복사한 같이 복사된 값과 같은 주소값을 참조함\n",
    "- 복사된 값을 바꿈\n",
    "- 같은 주소값을 참조함\n",
    "- 복사한 값도 바뀌어 나타남"
   ]
  },
  {
   "cell_type": "markdown",
   "metadata": {},
   "source": [
    "### <b>깊은 복사</b>\n",
    "\n",
    "복사한 값을 다른 주소에 넣어 참조함\n",
    "- 복사된 값을 바꿈\n",
    "- 다른 주소값을 참조함\n",
    "- 복사한 값은 바뀌어 나타나지 않음"
   ]
  },
  {
   "cell_type": "markdown",
   "metadata": {},
   "source": [
    "### <b>할당(assignment)</b>\n",
    "`new_list = original_list`  \n",
    "\n",
    "대입 연산자(=)\n",
    "- 해당 객체에 대한 객체 참조(주소값)를 복사"
   ]
  },
  {
   "cell_type": "markdown",
   "metadata": {},
   "source": [
    "### <b>슬라이싱</b>\n",
    "```python\n",
    "a = [1,2,3]\n",
    "b = a[:]\n",
    "```  \n",
    "- slice 연산자를 활용하면 연산된 결과를 복사(다른 주소)  \n",
    "\n",
    "\n",
    "<br>\n",
    "\n",
    "```python\n",
    "a = [1,2,['a','b']]\n",
    "b = a[:]\n",
    "```  \n",
    "- [a,b]를 연달아 저장하지 않고, 2 다음 위치에 [a,b]의 주소값을 저장  \n",
    "- [1][2][a,b의주소][a][b][1][2][a,b의주소]"
   ]
  },
  {
   "cell_type": "markdown",
   "metadata": {},
   "source": [
    "### <b>깊은 복사를 하는 방법</b>\n",
    "```python\n",
    "from copy import deepcopy\n",
    "a = [1,2,['a','b']]\n",
    "b = copy.deepcopy(a)\n",
    "```"
   ]
  },
  {
   "cell_type": "code",
   "execution_count": 25,
   "metadata": {},
   "outputs": [
    {
     "name": "stdout",
     "output_type": "stream",
     "text": [
      "[1, 2, 3, [1, 9, 3, 4]] [1, 2, 3, [1, 9, 3, 4]]\n"
     ]
    }
   ],
   "source": [
    "a = [1,2,3,[1,2,3,4]]\n",
    "b = a.copy()\n",
    "b[3][1] = 9\n",
    "print(a,b)"
   ]
  },
  {
   "cell_type": "code",
   "execution_count": 24,
   "metadata": {},
   "outputs": [
    {
     "name": "stdout",
     "output_type": "stream",
     "text": [
      "[1, 2, 3, [1, 9, 3, 4]] [1, 2, 3, [1, 9, 3, 4]]\n"
     ]
    }
   ],
   "source": [
    "import copy\n",
    "a = [1,2,3,[1,2,3,4]]\n",
    "b = copy.copy(a)\n",
    "b[3][1] = 9\n",
    "print(a,b)"
   ]
  }
 ],
 "metadata": {
  "kernelspec": {
   "display_name": "Python 3.9.13 64-bit",
   "language": "python",
   "name": "python3"
  },
  "language_info": {
   "codemirror_mode": {
    "name": "ipython",
    "version": 3
   },
   "file_extension": ".py",
   "mimetype": "text/x-python",
   "name": "python",
   "nbconvert_exporter": "python",
   "pygments_lexer": "ipython3",
   "version": "3.9.13"
  },
  "orig_nbformat": 4,
  "vscode": {
   "interpreter": {
    "hash": "c4b9ebf4ca459396e2ad1150752490c26670c1a037c08cad955a4425787bec2e"
   }
  }
 },
 "nbformat": 4,
 "nbformat_minor": 2
}
