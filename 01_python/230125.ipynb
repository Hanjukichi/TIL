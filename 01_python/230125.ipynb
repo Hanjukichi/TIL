{
 "cells": [
  {
   "cell_type": "markdown",
   "metadata": {},
   "source": [
    "# <b>데이터 구조 1</b>"
   ]
  },
  {
   "cell_type": "markdown",
   "metadata": {},
   "source": [
    "## <b>Ⅰ 데이터 구조란?</b>"
   ]
  },
  {
   "cell_type": "markdown",
   "metadata": {},
   "source": [
    "### <b>데이터 구조란?</b>\n",
    "'데이터가 어떻게 이루어져있는지' + '어떠한 연산을 할 것인지' 가 중요  \n",
    "\n",
    "여러 데이터를 효과적으로 사용, 관리하기 위한 구조 \n",
    " \n",
    "파이썬에의 대표적 데이터 구조\n",
    "- List\n",
    "- Tuple\n",
    "- Dict\n",
    "- set\n",
    "\n"
   ]
  },
  {
   "cell_type": "markdown",
   "metadata": {},
   "source": [
    "### <b>자료 구조</b>\n",
    "컴퓨터 공학에서는 '자료 구조'라고 함\n",
    "\n",
    "각 데이터의 효율적인 저장, 관리를 위한 구조를 나눠 놓은 것"
   ]
  },
  {
   "cell_type": "markdown",
   "metadata": {},
   "source": [
    "### <b>데이터 구조 활용하기</b>\n",
    "데이터 구조를 활용하기 위해서는 메서드를 사용\n",
    "- 메서드 : 클래스 내부에 정의한 함수, 사실상 함수\n",
    "- 쉽게 설명하자면 객체의 기능  \n",
    "\n",
    "`데이터구조.메서드()` 형태  \n",
    "\n",
    "ex) `List.append(10)`"
   ]
  },
  {
   "cell_type": "markdown",
   "metadata": {},
   "source": [
    "### <b>파이썬 공식 문서 표기법</b>\n",
    "구문 X, 문법을 표현하기 위한 것  \n",
    "\n",
    "`str.replace(old,new[,count]`  \n",
    "`old`,`new` 는 필수, `[,count]`는 선택적 인자"
   ]
  },
  {
   "cell_type": "markdown",
   "metadata": {},
   "source": [
    "## <b>Ⅱ 순서가 있는 데이터 구조</b>"
   ]
  },
  {
   "cell_type": "markdown",
   "metadata": {},
   "source": [
    "### <b>문자열</b>"
   ]
  },
  {
   "cell_type": "markdown",
   "metadata": {},
   "source": [
    "#### <b>문자열의 기본 특징</b>\n",
    "문자들의 나열\n",
    "- 모든 문자는 str타입  \n",
    "\n",
    "`'`나 `\"`로 표기\n",
    "- 문자열을 묶을 때 동일한 문장부호 사용"
   ]
  },
  {
   "cell_type": "markdown",
   "metadata": {},
   "source": [
    "#### <b>문자열 불변형</b>\n",
    "기존의 문자열 변형 X, 새로운 문자열을 반한"
   ]
  },
  {
   "cell_type": "markdown",
   "metadata": {},
   "source": [
    "### <b>리스트</b>\n",
    "여러 개의 값을 순서가 있는 구조로 저장하고 싶을 때 사용  \n",
    "- 어떠한 자료형도 저장할 수 있음\n",
    "- 생성 이후 변경 가능\n",
    "- 이러한 유연성으로 파이썬에서 가장 흔히 사용\n",
    "- 인덱싱을 통해 접근 가능 <- 순서가 있는 시퀀스 `list[i]`  \n",
    "\n",
    "\n",
    "`[]` 혹은 `list()`을 통해 생성"
   ]
  },
  {
   "cell_type": "markdown",
   "metadata": {},
   "source": [
    "### <b>튜플</b>\n",
    "튜플은 여러 개의 값을 순서가 있는 구조로 저장하고 싶을 때 사용  \n",
    "- 리스트와의 차이점: 담고 있는 값 변경이 불가(불변자료형)\n",
    "- 항상 소괄호 형태로 사용 \n",
    "\n",
    "`tuple()` or `()`을 통해 생성"
   ]
  },
  {
   "cell_type": "markdown",
   "metadata": {},
   "source": [
    "## <b>Ⅲ 연산자</b>"
   ]
  },
  {
   "cell_type": "markdown",
   "metadata": {},
   "source": [
    "### <b>맴버쉽 연산자</b>\n",
    "맴버쉽 연산자 `in`을 통해 특정 요소가 속해 있는지 여부를확인\n",
    "``` python\n",
    "'a' in 'apple'\n",
    "'b' not in 'apple'\n",
    "```"
   ]
  },
  {
   "cell_type": "markdown",
   "metadata": {},
   "source": [
    "### <b>시퀀스형 연산자</b>\n",
    "산술 연산자 (`+`)\n",
    "- 시퀀스 간의 concatenation(연결/연쇄)\n",
    "- `[1,2] + ['a'] -> [1,2,'a']`  \n",
    "\n",
    "반복 연산자 (`*`)\n",
    "- 시퀀스를 반복\n",
    "- `[1,2] * 2 -> [1,2,1,2]`"
   ]
  },
  {
   "cell_type": "markdown",
   "metadata": {},
   "source": [
    "## <b>실습</b>"
   ]
  },
  {
   "cell_type": "code",
   "execution_count": 2,
   "metadata": {},
   "outputs": [
    {
     "data": {
      "text/plain": [
       "{'문자': 4, '숫자': 6, '기호': 5}"
      ]
     },
     "execution_count": 2,
     "metadata": {},
     "output_type": "execute_result"
    }
   ],
   "source": [
    "# 실습1\n",
    "# 문자열이 주어지면 숫자, 문자, 기호가 몇 개인지 출력하는 함수\n",
    "\n",
    "def check(s):\n",
    "    cnt = {'문자':0, '숫자':0, '기호':0}\n",
    "    for chr in s:\n",
    "        if chr.isalpha():\n",
    "            cnt['문자'] += 1\n",
    "        elif chr.isdigit():\n",
    "            cnt['숫자'] += 1\n",
    "        else:\n",
    "            cnt['기호'] += 1\n",
    "    return cnt\n",
    "\n",
    "check('asdf561651**&@#')"
   ]
  },
  {
   "cell_type": "code",
   "execution_count": null,
   "metadata": {},
   "outputs": [],
   "source": [
    "# 실습2\n",
    "\n",
    "# 주어진 리스트의 4번째 자리에 있는 항목을 제거하고 변수에 할당해 주세요.\n",
    "sample_list = [11,22,33,44,55]\n",
    "num = sample_list.pop(3)\n",
    "print(sample_list)\n",
    "print(num)\n",
    "\n",
    "# 샘플 리스트의 가장 뒤에 77을 추가해보세요\n",
    "sample_list.append(77)\n",
    "print(sample_list)\n",
    "\n",
    "# 할당해 높은 변수의 값을 샘플 리스트의 2번 index에 추가해보세요.\n",
    "sample_list.insert(2,num)\n",
    "print(sample_list)"
   ]
  },
  {
   "cell_type": "code",
   "execution_count": 3,
   "metadata": {},
   "outputs": [
    {
     "name": "stdout",
     "output_type": "stream",
     "text": [
      "(44, 55)\n"
     ]
    }
   ],
   "source": [
    "# 실습3\n",
    "my_tuple = (11,22,33,44,55)\n",
    "# 주어진 튜플에서 44와 55의 값을 새로운 튜플에 할당해보세요.\n",
    "new_tuple = my_tuple[3:]\n",
    "print(new_tuple) "
   ]
  }
 ],
 "metadata": {
  "kernelspec": {
   "display_name": "Python 3.9.13 64-bit",
   "language": "python",
   "name": "python3"
  },
  "language_info": {
   "codemirror_mode": {
    "name": "ipython",
    "version": 3
   },
   "file_extension": ".py",
   "mimetype": "text/x-python",
   "name": "python",
   "nbconvert_exporter": "python",
   "pygments_lexer": "ipython3",
   "version": "3.9.13"
  },
  "orig_nbformat": 4,
  "vscode": {
   "interpreter": {
    "hash": "c4b9ebf4ca459396e2ad1150752490c26670c1a037c08cad955a4425787bec2e"
   }
  }
 },
 "nbformat": 4,
 "nbformat_minor": 2
}
