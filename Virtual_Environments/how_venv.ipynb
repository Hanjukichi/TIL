{
 "cells": [
  {
   "cell_type": "markdown",
   "metadata": {},
   "source": [
    "### 가상환경 명령어\n",
    "\n",
    "`python -m venv 폴더이름` - 가상환경 폴더 만들기\n",
    "\n",
    "`source 폴더이름/Scripts/activate` - 가상환경 활성화\n",
    "\n",
    "`deactivate` - 가상환경 비활성화\n",
    "\n",
    "`pip freeze` - 내 가상환경의 라이브러리를 추출\n",
    "\n",
    "`pip freeze > requirements.txt` - 내 가상환경에서 추출한 라이브러리를 텍스트 파일로 반환\n",
    "\n",
    "`pip install -r requirements.txt` - 텍스트파일에 기입된 라이브러리를 가상환경에 설치"
   ]
  },
  {
   "cell_type": "markdown",
   "metadata": {},
   "source": [
    "### 기타\n",
    "\n",
    "`mkdir 폴더이름` - 폴더 만들기  \n",
    "\n",
    "`rmdir 폴더이름` - 폴더 삭제하기  \n",
    "\n",
    "`rm -R 폴더이름` - 폴더에 파일이 있어도 삭제하기  \n"
   ]
  }
 ],
 "metadata": {
  "kernelspec": {
   "display_name": "Python 3.9.13 64-bit",
   "language": "python",
   "name": "python3"
  },
  "language_info": {
   "name": "python",
   "version": "3.9.13"
  },
  "orig_nbformat": 4,
  "vscode": {
   "interpreter": {
    "hash": "c4b9ebf4ca459396e2ad1150752490c26670c1a037c08cad955a4425787bec2e"
   }
  }
 },
 "nbformat": 4,
 "nbformat_minor": 2
}
